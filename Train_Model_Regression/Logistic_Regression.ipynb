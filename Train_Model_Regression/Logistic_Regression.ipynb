{
 "cells": [
  {
   "cell_type": "code",
   "execution_count": 1,
   "metadata": {},
   "outputs": [
    {
     "name": "stderr",
     "output_type": "stream",
     "text": [
      "D:\\ProgramData\\Anaconda3\\lib\\site-packages\\h5py\\__init__.py:36: FutureWarning: Conversion of the second argument of issubdtype from `float` to `np.floating` is deprecated. In future, it will be treated as `np.float64 == np.dtype(float).type`.\n",
      "  from ._conv import register_converters as _register_converters\n"
     ]
    }
   ],
   "source": [
    "import tensorflow as tf\n",
    "import pandas as pd\n",
    "import numpy as np\n",
    "import time\n",
    "import matplotlib.pyplot as plt\n",
    "from sklearn.datasets import load_iris\n",
    "from sklearn.model_selection import train_test_split"
   ]
  },
  {
   "cell_type": "code",
   "execution_count": 2,
   "metadata": {},
   "outputs": [],
   "source": [
    "iris = load_iris()\n",
    "iris_X, iris_Y = iris.data[:-1,:], iris.target[:-1]\n",
    "iris_Y = pd.get_dummies(iris_Y).values\n",
    "trainX, testX, trainY, testY = train_test_split(iris_X,iris_Y,\n",
    "                                                test_size = 0.3, random_state = 42)\n"
   ]
  },
  {
   "cell_type": "code",
   "execution_count": 3,
   "metadata": {},
   "outputs": [],
   "source": [
    "numFeatures = trainX.shape[1]\n",
    "numLabels = trainY.shape[1]\n",
    "\n",
    "X = tf.placeholder(tf.float32,[None, numFeatures], name = 'input')\n",
    "y = tf.placeholder(tf.float32,[None,numLabels], name = 'ground_truth')"
   ]
  },
  {
   "cell_type": "code",
   "execution_count": 4,
   "metadata": {},
   "outputs": [],
   "source": [
    "W = tf.Variable(tf.zeros([4,3]), name = 'weight')\n",
    "b = tf.Variable(tf.zeros([3]), name = 'bias')"
   ]
  },
  {
   "cell_type": "code",
   "execution_count": 5,
   "metadata": {},
   "outputs": [],
   "source": [
    "apply_weights = tf.matmul(X, W, name = 'apple_weights')\n",
    "add_bias = tf.add(apply_weights, b , name = 'add_bias')\n",
    "activation_op = tf.nn.sigmoid(add_bias, name = 'activation_op')"
   ]
  },
  {
   "cell_type": "code",
   "execution_count": 6,
   "metadata": {},
   "outputs": [],
   "source": [
    "loss = tf.nn.l2_loss(activation_op - y, name = 'squared_error_cost')\n",
    "num_epochs = 700\n",
    "lr = tf.train.exponential_decay(learning_rate = 0.0008,\n",
    "                               global_step = 1,\n",
    "                               decay_steps = trainX.shape[0],\n",
    "                               decay_rate = 0.95,\n",
    "                               staircase = True)\n",
    "training_op = tf.train.GradientDescentOptimizer(lr).minimize(loss)"
   ]
  },
  {
   "cell_type": "code",
   "execution_count": 7,
   "metadata": {},
   "outputs": [],
   "source": [
    "init = tf.global_variables_initializer()\n",
    "sess = tf.Session()\n",
    "sess.run(init)"
   ]
  },
  {
   "cell_type": "code",
   "execution_count": 8,
   "metadata": {},
   "outputs": [],
   "source": [
    "correct_pred = tf.equal(tf.argmax(activation_op,1), tf.argmax(y,1))\n",
    "accuracy = tf.reduce_mean(tf.cast(correct_pred,'float'))\n",
    "activation_summary = tf.summary.histogram('output', activation_op)\n",
    "accuracy_summary = tf.summary.scalar('accuracy', accuracy)\n",
    "cost_summary = tf.summary.scalar('cost', loss)\n",
    "weight_summary = tf.summary.histogram('weights', W)\n",
    "bias_summary = tf.summary.histogram('bias', b)\n",
    "merged = tf.summary.merge([activation_summary,accuracy_summary\n",
    "                          ,cost_summary,weight_summary,bias_summary])\n",
    "write = tf.summary.FileWriter('summary_logs', sess.graph)"
   ]
  },
  {
   "cell_type": "code",
   "execution_count": 9,
   "metadata": {},
   "outputs": [],
   "source": [
    "cost_init = 0\n",
    "diff = 1\n",
    "epoch_values = []\n",
    "accuracy_values = []\n",
    "cost_values = []"
   ]
  },
  {
   "cell_type": "code",
   "execution_count": 10,
   "metadata": {},
   "outputs": [
    {
     "name": "stdout",
     "output_type": "stream",
     "text": [
      "step: 0, training accuracy: 0.346154, cost: 35.9518, change in cost 35.9518\n",
      "step: 10, training accuracy: 0.413462, cost: 31.4632, change in cost 4.4886\n",
      "step: 20, training accuracy: 0.644231, cost: 29.4469, change in cost 2.01628\n",
      "step: 30, training accuracy: 0.644231, cost: 27.7466, change in cost 1.70032\n",
      "step: 40, training accuracy: 0.644231, cost: 26.3353, change in cost 1.41131\n",
      "step: 50, training accuracy: 0.644231, cost: 25.1705, change in cost 1.16482\n",
      "step: 60, training accuracy: 0.644231, cost: 24.207, change in cost 0.96344\n",
      "step: 70, training accuracy: 0.644231, cost: 23.4047, change in cost 0.802328\n",
      "step: 80, training accuracy: 0.644231, cost: 22.7303, change in cost 0.674377\n",
      "step: 90, training accuracy: 0.644231, cost: 22.1576, change in cost 0.572701\n",
      "step: 100, training accuracy: 0.653846, cost: 21.6661, change in cost 0.491493\n",
      "step: 110, training accuracy: 0.663462, cost: 21.24, change in cost 0.426151\n",
      "step: 120, training accuracy: 0.663462, cost: 20.8669, change in cost 0.373119\n",
      "step: 130, training accuracy: 0.663462, cost: 20.5372, change in cost 0.329676\n",
      "step: 140, training accuracy: 0.663462, cost: 20.2434, change in cost 0.293772\n",
      "step: 150, training accuracy: 0.663462, cost: 19.9796, change in cost 0.26383\n",
      "step: 160, training accuracy: 0.673077, cost: 19.7409, change in cost 0.238646\n",
      "step: 170, training accuracy: 0.682692, cost: 19.5236, change in cost 0.217297\n",
      "step: 180, training accuracy: 0.692308, cost: 19.3246, change in cost 0.199045\n",
      "step: 190, training accuracy: 0.711538, cost: 19.1412, change in cost 0.183346\n",
      "step: 200, training accuracy: 0.721154, cost: 18.9715, change in cost 0.169737\n",
      "step: 210, training accuracy: 0.740385, cost: 18.8136, change in cost 0.157867\n",
      "step: 220, training accuracy: 0.75, cost: 18.6662, change in cost 0.147453\n",
      "step: 230, training accuracy: 0.759615, cost: 18.5279, change in cost 0.13826\n",
      "step: 240, training accuracy: 0.759615, cost: 18.3978, change in cost 0.130104\n",
      "step: 250, training accuracy: 0.769231, cost: 18.275, change in cost 0.122829\n",
      "step: 260, training accuracy: 0.798077, cost: 18.1587, change in cost 0.116314\n",
      "step: 270, training accuracy: 0.798077, cost: 18.0482, change in cost 0.110441\n",
      "step: 280, training accuracy: 0.798077, cost: 17.9431, change in cost 0.105141\n",
      "step: 290, training accuracy: 0.798077, cost: 17.8428, change in cost 0.100323\n",
      "step: 300, training accuracy: 0.798077, cost: 17.7468, change in cost 0.0959339\n",
      "step: 310, training accuracy: 0.807692, cost: 17.6549, change in cost 0.0919209\n",
      "step: 320, training accuracy: 0.807692, cost: 17.5667, change in cost 0.0882359\n",
      "step: 330, training accuracy: 0.807692, cost: 17.4818, change in cost 0.0848465\n",
      "step: 340, training accuracy: 0.807692, cost: 17.4001, change in cost 0.0817108\n",
      "step: 350, training accuracy: 0.807692, cost: 17.3213, change in cost 0.0788116\n",
      "step: 360, training accuracy: 0.826923, cost: 17.2452, change in cost 0.0761147\n",
      "step: 370, training accuracy: 0.846154, cost: 17.1716, change in cost 0.0736008\n",
      "step: 380, training accuracy: 0.846154, cost: 17.1003, change in cost 0.0712605\n",
      "step: 390, training accuracy: 0.846154, cost: 17.0313, change in cost 0.0690632\n",
      "step: 400, training accuracy: 0.846154, cost: 16.9643, change in cost 0.0670052\n",
      "step: 410, training accuracy: 0.855769, cost: 16.8992, change in cost 0.0650711\n",
      "step: 420, training accuracy: 0.855769, cost: 16.836, change in cost 0.0632439\n",
      "step: 430, training accuracy: 0.855769, cost: 16.7744, change in cost 0.0615234\n",
      "step: 440, training accuracy: 0.865385, cost: 16.7145, change in cost 0.0598984\n",
      "step: 450, training accuracy: 0.865385, cost: 16.6562, change in cost 0.0583534\n",
      "step: 460, training accuracy: 0.875, cost: 16.5993, change in cost 0.0568924\n",
      "step: 470, training accuracy: 0.875, cost: 16.5438, change in cost 0.0555019\n",
      "step: 480, training accuracy: 0.884615, cost: 16.4896, change in cost 0.0541763\n",
      "step: 490, training accuracy: 0.884615, cost: 16.4367, change in cost 0.0529175\n",
      "step: 500, training accuracy: 0.884615, cost: 16.385, change in cost 0.051712\n",
      "step: 510, training accuracy: 0.884615, cost: 16.3344, change in cost 0.0505619\n",
      "step: 520, training accuracy: 0.884615, cost: 16.285, change in cost 0.0494576\n",
      "step: 530, training accuracy: 0.884615, cost: 16.2366, change in cost 0.0484047\n",
      "step: 540, training accuracy: 0.884615, cost: 16.1892, change in cost 0.0473938\n",
      "step: 550, training accuracy: 0.884615, cost: 16.1427, change in cost 0.0464211\n",
      "step: 560, training accuracy: 0.894231, cost: 16.0973, change in cost 0.0454884\n",
      "step: 570, training accuracy: 0.903846, cost: 16.0527, change in cost 0.0445881\n",
      "step: 580, training accuracy: 0.903846, cost: 16.0089, change in cost 0.0437241\n",
      "step: 590, training accuracy: 0.903846, cost: 15.966, change in cost 0.0428925\n",
      "step: 600, training accuracy: 0.903846, cost: 15.924, change in cost 0.0420856\n",
      "step: 610, training accuracy: 0.903846, cost: 15.8827, change in cost 0.0413103\n",
      "step: 620, training accuracy: 0.913462, cost: 15.8421, change in cost 0.0405598\n",
      "step: 630, training accuracy: 0.913462, cost: 15.8023, change in cost 0.0398378\n",
      "step: 640, training accuracy: 0.913462, cost: 15.7631, change in cost 0.0391331\n",
      "step: 650, training accuracy: 0.913462, cost: 15.7247, change in cost 0.038456\n",
      "step: 660, training accuracy: 0.913462, cost: 15.6869, change in cost 0.037796\n",
      "step: 670, training accuracy: 0.913462, cost: 15.6497, change in cost 0.0371609\n",
      "step: 680, training accuracy: 0.913462, cost: 15.6132, change in cost 0.0365419\n",
      "step: 690, training accuracy: 0.913462, cost: 15.5772, change in cost 0.0359402\n",
      "final accuracy on the test set: 0.8888889\n"
     ]
    }
   ],
   "source": [
    "for i in range(num_epochs):\n",
    "    if i > 1 and diff < 0.0001:\n",
    "        print('chnage in cost %g; convergence.' %diff)\n",
    "        break\n",
    "    else:\n",
    "        step = sess.run(training_op, feed_dict = {X: trainX, \n",
    "                                                 y: trainY})\n",
    "        if i%10 == 0:\n",
    "            epoch_values.append(i)\n",
    "            train_acc, newCost = sess.run([accuracy, loss],feed_dict = {X: trainX,\n",
    "                                                                       y: trainY})\n",
    "            accuracy_values.append(train_acc)\n",
    "            cost_values.append(newCost)\n",
    "            diff = abs(newCost - cost_init)\n",
    "            cost_init = newCost\n",
    "            \n",
    "            print(\"step: %d, training accuracy: %g, cost: %g, change in cost %g\" \n",
    "                  %(i, train_acc, newCost, diff))\n",
    "print('final accuracy on the test set: %s' %str(sess.run(accuracy, feed_dict = {X: testX,\n",
    "                                                                               y: testY})))\n"
   ]
  },
  {
   "cell_type": "code",
   "execution_count": 13,
   "metadata": {},
   "outputs": [
    {
     "name": "stderr",
     "output_type": "stream",
     "text": [
      "D:\\ProgramData\\Anaconda3\\lib\\site-packages\\numpy\\core\\fromnumeric.py:2957: RuntimeWarning: Mean of empty slice.\n",
      "  out=out, **kwargs)\n",
      "D:\\ProgramData\\Anaconda3\\lib\\site-packages\\numpy\\core\\_methods.py:80: RuntimeWarning: invalid value encountered in double_scalars\n",
      "  ret = ret.dtype.type(ret / rcount)\n"
     ]
    },
    {
     "data": {
      "image/png": "[encoded data removed]",
      "text/plain": [
       "<Figure size 432x288 with 1 Axes>"
      ]
     },
     "metadata": {},
     "output_type": "display_data"
    }
   ],
   "source": [
    "%matplotlib inline\n",
    "plt.plot([np.mean(cost_values[i-50:i]) for i in range(len(cost_values))])\n",
    "plt.show()"
   ]
  },
  {
   "cell_type": "code",
   "execution_count": null,
   "metadata": {},
   "outputs": [],
   "source": []
  }
 ],
 "metadata": {
  "kernelspec": {
   "display_name": "Python 3",
   "language": "python",
   "name": "python3"
  },
  "language_info": {
   "codemirror_mode": {
    "name": "ipython",
    "version": 3
   },
   "file_extension": ".py",
   "mimetype": "text/x-python",
   "name": "python",
   "nbconvert_exporter": "python",
   "pygments_lexer": "ipython3",
   "version": "3.6.5"
  }
 },
 "nbformat": 4,
 "nbformat_minor": 2
}
